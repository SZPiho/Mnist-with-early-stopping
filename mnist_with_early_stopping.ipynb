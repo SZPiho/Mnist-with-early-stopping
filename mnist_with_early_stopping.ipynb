{
  "nbformat": 4,
  "nbformat_minor": 0,
  "metadata": {
    "colab": {
      "name": "mnist with early stopping.ipynb",
      "provenance": [],
      "authorship_tag": "ABX9TyMaxFY5IknU4r8raY3DXNyf",
      "include_colab_link": true
    },
    "kernelspec": {
      "name": "python3",
      "display_name": "Python 3"
    }
  },
  "cells": [
    {
      "cell_type": "markdown",
      "metadata": {
        "id": "view-in-github",
        "colab_type": "text"
      },
      "source": [
        "<a href=\"https://colab.research.google.com/github/SZPiho/Mnist-with-early-stopping/blob/main/mnist_with_early_stopping.ipynb\" target=\"_parent\"><img src=\"https://colab.research.google.com/assets/colab-badge.svg\" alt=\"Open In Colab\"/></a>"
      ]
    },
    {
      "cell_type": "code",
      "metadata": {
        "id": "wiqX-ezv4894"
      },
      "source": [
        "import tensorflow as tf\n",
        "from tensorflow import keras\n",
        "from tensorflow.keras import Sequential\n",
        "from tensorflow.keras.layers import Flatten,Dense"
      ],
      "execution_count": 1,
      "outputs": []
    },
    {
      "cell_type": "code",
      "metadata": {
        "id": "gPvaBq8K7fHU"
      },
      "source": [
        "from tensorflow.keras import datasets"
      ],
      "execution_count": 2,
      "outputs": []
    },
    {
      "cell_type": "code",
      "metadata": {
        "id": "EynM-pBn7t_u"
      },
      "source": [
        "mnist=datasets.mnist"
      ],
      "execution_count": 3,
      "outputs": []
    },
    {
      "cell_type": "code",
      "metadata": {
        "id": "wTxgYowi7xre",
        "colab": {
          "base_uri": "https://localhost:8080/"
        },
        "outputId": "96b3c0c5-8478-4bc6-c247-851441cb5e33"
      },
      "source": [
        "(x_train,y_train),(x_test,y_test)=mnist.load_data()"
      ],
      "execution_count": 4,
      "outputs": [
        {
          "output_type": "stream",
          "name": "stdout",
          "text": [
            "Downloading data from https://storage.googleapis.com/tensorflow/tf-keras-datasets/mnist.npz\n",
            "11493376/11490434 [==============================] - 0s 0us/step\n",
            "11501568/11490434 [==============================] - 0s 0us/step\n"
          ]
        }
      ]
    },
    {
      "cell_type": "code",
      "metadata": {
        "id": "umzMgpyR8UYh",
        "colab": {
          "base_uri": "https://localhost:8080/"
        },
        "outputId": "08cead18-9d41-4833-8fda-0b177323a7e1"
      },
      "source": [
        "x_train.shape,x_test.shape"
      ],
      "execution_count": 5,
      "outputs": [
        {
          "output_type": "execute_result",
          "data": {
            "text/plain": [
              "((60000, 28, 28), (10000, 28, 28))"
            ]
          },
          "metadata": {},
          "execution_count": 5
        }
      ]
    },
    {
      "cell_type": "code",
      "metadata": {
        "id": "VGp6BLXP9Mzh",
        "colab": {
          "base_uri": "https://localhost:8080/"
        },
        "outputId": "4f00378e-14e2-4dae-9121-5ecaefb5ce52"
      },
      "source": [
        "y_train.shape,y_test.shape"
      ],
      "execution_count": 6,
      "outputs": [
        {
          "output_type": "execute_result",
          "data": {
            "text/plain": [
              "((60000,), (10000,))"
            ]
          },
          "metadata": {},
          "execution_count": 6
        }
      ]
    },
    {
      "cell_type": "code",
      "metadata": {
        "id": "PONlQZm59bDj"
      },
      "source": [
        "x_train=x_train/255.0\n",
        "x_test=x_test/255.0"
      ],
      "execution_count": 7,
      "outputs": []
    },
    {
      "cell_type": "code",
      "metadata": {
        "id": "CiBMzPKu9ioG"
      },
      "source": [
        "model=Sequential()"
      ],
      "execution_count": 8,
      "outputs": []
    },
    {
      "cell_type": "code",
      "metadata": {
        "id": "aGHjGq1L-JHU",
        "colab": {
          "base_uri": "https://localhost:8080/"
        },
        "outputId": "d4ba7903-1ea5-455d-fb65-ecf82c452afe"
      },
      "source": [
        "model.add(Flatten(input_shape=(28,28)))\n",
        "model.add(Dense(128,activation='relu'))\n",
        "model.add(Dense(10,activation='softmax'))\n",
        "model.summary()"
      ],
      "execution_count": 9,
      "outputs": [
        {
          "output_type": "stream",
          "name": "stdout",
          "text": [
            "Model: \"sequential\"\n",
            "_________________________________________________________________\n",
            " Layer (type)                Output Shape              Param #   \n",
            "=================================================================\n",
            " flatten (Flatten)           (None, 784)               0         \n",
            "                                                                 \n",
            " dense (Dense)               (None, 128)               100480    \n",
            "                                                                 \n",
            " dense_1 (Dense)             (None, 10)                1290      \n",
            "                                                                 \n",
            "=================================================================\n",
            "Total params: 101,770\n",
            "Trainable params: 101,770\n",
            "Non-trainable params: 0\n",
            "_________________________________________________________________\n"
          ]
        }
      ]
    },
    {
      "cell_type": "code",
      "metadata": {
        "id": "rXgqafaHB_1P"
      },
      "source": [
        "model.compile(optimizer='adam',loss='SparseCategoricalCrossentropy',metrics=['accuracy'])"
      ],
      "execution_count": 10,
      "outputs": []
    },
    {
      "cell_type": "code",
      "metadata": {
        "id": "iK4F-73uEeAP"
      },
      "source": [
        "from tensorflow.keras.callbacks import EarlyStopping\n",
        "\n",
        "monitor=EarlyStopping(monitor='val_loss',min_delta=1e-3,patience=5,verbose=2,mode='auto',restore_best_weights=True)"
      ],
      "execution_count": 11,
      "outputs": []
    },
    {
      "cell_type": "code",
      "metadata": {
        "id": "EMshTie4CTML",
        "colab": {
          "base_uri": "https://localhost:8080/"
        },
        "outputId": "72b76d74-c019-494a-e7bb-800bf779ba88"
      },
      "source": [
        "model.fit(x_train,y_train,batch_size=10,validation_data=(x_test,y_test),callbacks=[monitor],verbose=2,epochs=1000)"
      ],
      "execution_count": 12,
      "outputs": [
        {
          "output_type": "stream",
          "name": "stdout",
          "text": [
            "Epoch 1/1000\n",
            "6000/6000 - 11s - loss: 0.2135 - accuracy: 0.9355 - val_loss: 0.1274 - val_accuracy: 0.9619 - 11s/epoch - 2ms/step\n",
            "Epoch 2/1000\n",
            "6000/6000 - 10s - loss: 0.0928 - accuracy: 0.9712 - val_loss: 0.0989 - val_accuracy: 0.9688 - 10s/epoch - 2ms/step\n",
            "Epoch 3/1000\n",
            "6000/6000 - 10s - loss: 0.0661 - accuracy: 0.9792 - val_loss: 0.1084 - val_accuracy: 0.9694 - 10s/epoch - 2ms/step\n",
            "Epoch 4/1000\n",
            "6000/6000 - 10s - loss: 0.0485 - accuracy: 0.9843 - val_loss: 0.0800 - val_accuracy: 0.9771 - 10s/epoch - 2ms/step\n",
            "Epoch 5/1000\n",
            "6000/6000 - 10s - loss: 0.0382 - accuracy: 0.9875 - val_loss: 0.0815 - val_accuracy: 0.9779 - 10s/epoch - 2ms/step\n",
            "Epoch 6/1000\n",
            "6000/6000 - 10s - loss: 0.0315 - accuracy: 0.9900 - val_loss: 0.0781 - val_accuracy: 0.9782 - 10s/epoch - 2ms/step\n",
            "Epoch 7/1000\n",
            "6000/6000 - 10s - loss: 0.0269 - accuracy: 0.9909 - val_loss: 0.0781 - val_accuracy: 0.9802 - 10s/epoch - 2ms/step\n",
            "Epoch 8/1000\n",
            "6000/6000 - 10s - loss: 0.0207 - accuracy: 0.9925 - val_loss: 0.0933 - val_accuracy: 0.9782 - 10s/epoch - 2ms/step\n",
            "Epoch 9/1000\n",
            "6000/6000 - 10s - loss: 0.0192 - accuracy: 0.9937 - val_loss: 0.0825 - val_accuracy: 0.9794 - 10s/epoch - 2ms/step\n",
            "Epoch 10/1000\n",
            "6000/6000 - 10s - loss: 0.0158 - accuracy: 0.9949 - val_loss: 0.1046 - val_accuracy: 0.9767 - 10s/epoch - 2ms/step\n",
            "Epoch 11/1000\n",
            "Restoring model weights from the end of the best epoch: 6.\n",
            "6000/6000 - 10s - loss: 0.0156 - accuracy: 0.9947 - val_loss: 0.0997 - val_accuracy: 0.9791 - 10s/epoch - 2ms/step\n",
            "Epoch 11: early stopping\n"
          ]
        },
        {
          "output_type": "execute_result",
          "data": {
            "text/plain": [
              "<keras.callbacks.History at 0x7f3b99895410>"
            ]
          },
          "metadata": {},
          "execution_count": 12
        }
      ]
    },
    {
      "cell_type": "code",
      "metadata": {
        "id": "Avv0i4GzCjOj",
        "colab": {
          "base_uri": "https://localhost:8080/"
        },
        "outputId": "b9c413c3-dd5c-4c1f-e813-d25c93cfa0fa"
      },
      "source": [
        "y_train"
      ],
      "execution_count": 13,
      "outputs": [
        {
          "output_type": "execute_result",
          "data": {
            "text/plain": [
              "array([5, 0, 4, ..., 5, 6, 8], dtype=uint8)"
            ]
          },
          "metadata": {},
          "execution_count": 13
        }
      ]
    },
    {
      "cell_type": "code",
      "metadata": {
        "id": "bpugTiNUGw8S",
        "colab": {
          "base_uri": "https://localhost:8080/"
        },
        "outputId": "a00ca07e-e336-464c-b04d-828bf4e272f7"
      },
      "source": [
        "model.evaluate(x_test,y_test)"
      ],
      "execution_count": 14,
      "outputs": [
        {
          "output_type": "stream",
          "name": "stdout",
          "text": [
            "313/313 [==============================] - 1s 2ms/step - loss: 0.0781 - accuracy: 0.9782\n"
          ]
        },
        {
          "output_type": "execute_result",
          "data": {
            "text/plain": [
              "[0.07805655151605606, 0.9782000184059143]"
            ]
          },
          "metadata": {},
          "execution_count": 14
        }
      ]
    },
    {
      "cell_type": "code",
      "metadata": {
        "id": "Gl6hVy3hHDIl"
      },
      "source": [
        "import numpy as np\n",
        "y_pred=np.argmax(model.predict(x_test),axis=-1)"
      ],
      "execution_count": 19,
      "outputs": []
    },
    {
      "cell_type": "code",
      "metadata": {
        "id": "jAFp3YdtHT48",
        "colab": {
          "base_uri": "https://localhost:8080/"
        },
        "outputId": "dda5d73f-a725-444d-ae79-b60b3a3de0d3"
      },
      "source": [
        "y_pred"
      ],
      "execution_count": 20,
      "outputs": [
        {
          "output_type": "execute_result",
          "data": {
            "text/plain": [
              "array([7, 2, 1, ..., 4, 5, 6])"
            ]
          },
          "metadata": {},
          "execution_count": 20
        }
      ]
    },
    {
      "cell_type": "code",
      "metadata": {
        "id": "GOClznxwHVFK",
        "colab": {
          "base_uri": "https://localhost:8080/"
        },
        "outputId": "d2bc602f-f128-4c2b-8e52-a8a8fed49bc3"
      },
      "source": [
        "from sklearn.metrics import accuracy_score\n",
        "accuracy_score(y_test,y_pred)"
      ],
      "execution_count": 21,
      "outputs": [
        {
          "output_type": "execute_result",
          "data": {
            "text/plain": [
              "0.9782"
            ]
          },
          "metadata": {},
          "execution_count": 21
        }
      ]
    },
    {
      "cell_type": "code",
      "metadata": {
        "id": "ag04rySSIC6z"
      },
      "source": [
        ""
      ],
      "execution_count": null,
      "outputs": []
    }
  ]
}